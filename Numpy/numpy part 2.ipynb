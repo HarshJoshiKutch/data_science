{
 "cells": [
  {
   "cell_type": "code",
   "execution_count": 1,
   "id": "30c5ca48",
   "metadata": {},
   "outputs": [],
   "source": [
    "# Numpy - Array Manipulation."
   ]
  },
  {
   "cell_type": "code",
   "execution_count": 2,
   "id": "8512dc41",
   "metadata": {},
   "outputs": [],
   "source": [
    "import numpy as np"
   ]
  },
  {
   "cell_type": "code",
   "execution_count": 3,
   "id": "62f14859",
   "metadata": {},
   "outputs": [],
   "source": [
    "arr = np.random.randint(1,10,(3,4)) # jya 1 to 10 ni vachhe data generate karo and 3*4 matrix"
   ]
  },
  {
   "cell_type": "code",
   "execution_count": 4,
   "id": "7f8a7f9e",
   "metadata": {},
   "outputs": [
    {
     "data": {
      "text/plain": [
       "array([[6, 1, 6, 5],\n",
       "       [3, 3, 8, 7],\n",
       "       [2, 7, 4, 6]])"
      ]
     },
     "execution_count": 4,
     "metadata": {},
     "output_type": "execute_result"
    }
   ],
   "source": [
    "arr"
   ]
  },
  {
   "cell_type": "code",
   "execution_count": 5,
   "id": "4855f486",
   "metadata": {},
   "outputs": [
    {
     "data": {
      "text/plain": [
       "array([[6, 1],\n",
       "       [6, 5],\n",
       "       [3, 3],\n",
       "       [8, 7],\n",
       "       [2, 7],\n",
       "       [4, 6]])"
      ]
     },
     "execution_count": 5,
     "metadata": {},
     "output_type": "execute_result"
    }
   ],
   "source": [
    "arr.reshape(6,2)"
   ]
  },
  {
   "cell_type": "code",
   "execution_count": 7,
   "id": "baf3eef5",
   "metadata": {},
   "outputs": [
    {
     "data": {
      "text/plain": [
       "array([[6, 1, 6, 5, 3, 3],\n",
       "       [8, 7, 2, 7, 4, 6]])"
      ]
     },
     "execution_count": 7,
     "metadata": {},
     "output_type": "execute_result"
    }
   ],
   "source": [
    "arr.reshape(2,6)"
   ]
  },
  {
   "cell_type": "code",
   "execution_count": 9,
   "id": "863f7bc4",
   "metadata": {},
   "outputs": [
    {
     "data": {
      "text/plain": [
       "array([[6, 3, 2],\n",
       "       [1, 3, 7],\n",
       "       [6, 8, 4],\n",
       "       [5, 7, 6]])"
      ]
     },
     "execution_count": 9,
     "metadata": {},
     "output_type": "execute_result"
    }
   ],
   "source": [
    "arr.T # jya .T e array ne transpose kari deche "
   ]
  },
  {
   "cell_type": "code",
   "execution_count": 10,
   "id": "6a25e9d8",
   "metadata": {},
   "outputs": [
    {
     "data": {
      "text/plain": [
       "array([6, 1, 6, 5, 3, 3, 8, 7, 2, 7, 4, 6])"
      ]
     },
     "execution_count": 10,
     "metadata": {},
     "output_type": "execute_result"
    }
   ],
   "source": [
    "arr.flatten() # means array ne flat kari deche "
   ]
  },
  {
   "cell_type": "code",
   "execution_count": 11,
   "id": "22934829",
   "metadata": {},
   "outputs": [],
   "source": [
    "arr1 = np.array([1,2,3,4,5,6])"
   ]
  },
  {
   "cell_type": "code",
   "execution_count": 12,
   "id": "bf9d2276",
   "metadata": {},
   "outputs": [
    {
     "data": {
      "text/plain": [
       "1"
      ]
     },
     "execution_count": 12,
     "metadata": {},
     "output_type": "execute_result"
    }
   ],
   "source": [
    "arr1.ndim"
   ]
  },
  {
   "cell_type": "code",
   "execution_count": 13,
   "id": "6c64796b",
   "metadata": {},
   "outputs": [
    {
     "data": {
      "text/plain": [
       "array([[1],\n",
       "       [2],\n",
       "       [3],\n",
       "       [4],\n",
       "       [5],\n",
       "       [6]])"
      ]
     },
     "execution_count": 13,
     "metadata": {},
     "output_type": "execute_result"
    }
   ],
   "source": [
    "np.expand_dims(arr1,axis=1)"
   ]
  },
  {
   "cell_type": "code",
   "execution_count": 14,
   "id": "38abaef7",
   "metadata": {},
   "outputs": [
    {
     "data": {
      "text/plain": [
       "array([[6, 1, 6, 5],\n",
       "       [3, 3, 8, 7],\n",
       "       [2, 7, 4, 6]])"
      ]
     },
     "execution_count": 14,
     "metadata": {},
     "output_type": "execute_result"
    }
   ],
   "source": [
    "arr"
   ]
  },
  {
   "cell_type": "code",
   "execution_count": 16,
   "id": "306cb88e",
   "metadata": {},
   "outputs": [
    {
     "data": {
      "text/plain": [
       "array([[6, 1, 6, 5],\n",
       "       [3, 3, 8, 7],\n",
       "       [2, 7, 4, 6]])"
      ]
     },
     "execution_count": 16,
     "metadata": {},
     "output_type": "execute_result"
    }
   ],
   "source": [
    "np.squeeze(arr) "
   ]
  },
  {
   "cell_type": "code",
   "execution_count": 17,
   "id": "3f715cc8",
   "metadata": {},
   "outputs": [],
   "source": [
    "data = np.array([[1],[2],[3]])"
   ]
  },
  {
   "cell_type": "code",
   "execution_count": 18,
   "id": "dd31aefb",
   "metadata": {},
   "outputs": [
    {
     "data": {
      "text/plain": [
       "array([[1],\n",
       "       [2],\n",
       "       [3]])"
      ]
     },
     "execution_count": 18,
     "metadata": {},
     "output_type": "execute_result"
    }
   ],
   "source": [
    "data # aama 2 - dimensional ma available che "
   ]
  },
  {
   "cell_type": "code",
   "execution_count": 20,
   "id": "c8ffba0e",
   "metadata": {},
   "outputs": [
    {
     "data": {
      "text/plain": [
       "array([1, 2, 3])"
      ]
     },
     "execution_count": 20,
     "metadata": {},
     "output_type": "execute_result"
    }
   ],
   "source": [
    "np.squeeze(data) # squeeze ni help thi aa one dimensional ma covert thayi jay che "
   ]
  },
  {
   "cell_type": "code",
   "execution_count": 21,
   "id": "ad091b0b",
   "metadata": {},
   "outputs": [
    {
     "data": {
      "text/plain": [
       "array([1, 2, 3, 4, 5, 6])"
      ]
     },
     "execution_count": 21,
     "metadata": {},
     "output_type": "execute_result"
    }
   ],
   "source": [
    "arr1"
   ]
  },
  {
   "cell_type": "code",
   "execution_count": 22,
   "id": "9510e055",
   "metadata": {},
   "outputs": [
    {
     "data": {
      "text/plain": [
       "array([1, 1, 1, 2, 2, 2, 3, 3, 3, 4, 4, 4, 5, 5, 5, 6, 6, 6])"
      ]
     },
     "execution_count": 22,
     "metadata": {},
     "output_type": "execute_result"
    }
   ],
   "source": [
    "np.repeat(arr1,3) # jya aa 3 vakhat repeat kare che "
   ]
  },
  {
   "cell_type": "code",
   "execution_count": 24,
   "id": "f9c7b96c",
   "metadata": {},
   "outputs": [
    {
     "data": {
      "text/plain": [
       "array([5, 6, 1, 2, 3, 4])"
      ]
     },
     "execution_count": 24,
     "metadata": {},
     "output_type": "execute_result"
    }
   ],
   "source": [
    "np.roll(arr1,2) # means aa data ne shift kare che etle role kare che "
   ]
  },
  {
   "cell_type": "code",
   "execution_count": 26,
   "id": "979cb9e8",
   "metadata": {},
   "outputs": [
    {
     "data": {
      "text/plain": [
       "array([[1, 0, 0, 0, 0, 0],\n",
       "       [0, 2, 0, 0, 0, 0],\n",
       "       [0, 0, 3, 0, 0, 0],\n",
       "       [0, 0, 0, 4, 0, 0],\n",
       "       [0, 0, 0, 0, 5, 0],\n",
       "       [0, 0, 0, 0, 0, 6]])"
      ]
     },
     "execution_count": 26,
     "metadata": {},
     "output_type": "execute_result"
    }
   ],
   "source": [
    "np.diag(arr1) # aama je data hase ene diagonal ma rakhi dese"
   ]
  },
  {
   "cell_type": "code",
   "execution_count": 27,
   "id": "9a66de09",
   "metadata": {},
   "outputs": [],
   "source": [
    "# Numpy - Binary operation"
   ]
  },
  {
   "cell_type": "code",
   "execution_count": 28,
   "id": "57e55f69",
   "metadata": {},
   "outputs": [],
   "source": [
    "arr1 = np.random.randint(1,10,(3,4))"
   ]
  },
  {
   "cell_type": "code",
   "execution_count": 30,
   "id": "90ccdc84",
   "metadata": {},
   "outputs": [],
   "source": [
    "arr2 = np.random.randint(1,10,(3,4))"
   ]
  },
  {
   "cell_type": "code",
   "execution_count": 31,
   "id": "3f652f39",
   "metadata": {},
   "outputs": [
    {
     "data": {
      "text/plain": [
       "array([[3, 7, 8, 4],\n",
       "       [7, 9, 9, 1],\n",
       "       [4, 7, 8, 5]])"
      ]
     },
     "execution_count": 31,
     "metadata": {},
     "output_type": "execute_result"
    }
   ],
   "source": [
    "arr1"
   ]
  },
  {
   "cell_type": "code",
   "execution_count": 32,
   "id": "04a3d3b0",
   "metadata": {},
   "outputs": [
    {
     "data": {
      "text/plain": [
       "array([[3, 1, 6, 5],\n",
       "       [6, 2, 6, 1],\n",
       "       [7, 1, 2, 6]])"
      ]
     },
     "execution_count": 32,
     "metadata": {},
     "output_type": "execute_result"
    }
   ],
   "source": [
    "arr2"
   ]
  },
  {
   "cell_type": "code",
   "execution_count": 33,
   "id": "50801c4e",
   "metadata": {},
   "outputs": [
    {
     "data": {
      "text/plain": [
       "array([[ 6,  8, 14,  9],\n",
       "       [13, 11, 15,  2],\n",
       "       [11,  8, 10, 11]])"
      ]
     },
     "execution_count": 33,
     "metadata": {},
     "output_type": "execute_result"
    }
   ],
   "source": [
    "arr1+arr2 # jya index vise e sum kare che  "
   ]
  },
  {
   "cell_type": "code",
   "execution_count": 34,
   "id": "b9b9da3e",
   "metadata": {},
   "outputs": [
    {
     "data": {
      "text/plain": [
       "array([[ 9,  7, 48, 20],\n",
       "       [42, 18, 54,  1],\n",
       "       [28,  7, 16, 30]])"
      ]
     },
     "execution_count": 34,
     "metadata": {},
     "output_type": "execute_result"
    }
   ],
   "source": [
    "arr1 * arr2"
   ]
  },
  {
   "cell_type": "code",
   "execution_count": 35,
   "id": "5c35af62",
   "metadata": {},
   "outputs": [
    {
     "data": {
      "text/plain": [
       "array([[ 0,  6,  2, -1],\n",
       "       [ 1,  7,  3,  0],\n",
       "       [-3,  6,  6, -1]])"
      ]
     },
     "execution_count": 35,
     "metadata": {},
     "output_type": "execute_result"
    }
   ],
   "source": [
    "arr1-arr2"
   ]
  },
  {
   "cell_type": "code",
   "execution_count": 36,
   "id": "fcf9bf01",
   "metadata": {},
   "outputs": [
    {
     "data": {
      "text/plain": [
       "array([[0, 0, 2, 4],\n",
       "       [1, 1, 3, 0],\n",
       "       [4, 0, 0, 5]])"
      ]
     },
     "execution_count": 36,
     "metadata": {},
     "output_type": "execute_result"
    }
   ],
   "source": [
    "arr1%arr2"
   ]
  },
  {
   "cell_type": "code",
   "execution_count": 37,
   "id": "ce5cfb81",
   "metadata": {},
   "outputs": [
    {
     "data": {
      "text/plain": [
       "array([[    27,      7, 262144,   1024],\n",
       "       [117649,     81, 531441,      1],\n",
       "       [ 16384,      7,     64,  15625]])"
      ]
     },
     "execution_count": 37,
     "metadata": {},
     "output_type": "execute_result"
    }
   ],
   "source": [
    "arr1**arr2"
   ]
  },
  {
   "cell_type": "code",
   "execution_count": 38,
   "id": "e77f8f66",
   "metadata": {},
   "outputs": [
    {
     "data": {
      "text/plain": [
       "array([[3, 1, 0, 4],\n",
       "       [6, 0, 0, 1],\n",
       "       [4, 1, 0, 4]])"
      ]
     },
     "execution_count": 38,
     "metadata": {},
     "output_type": "execute_result"
    }
   ],
   "source": [
    "arr1 & arr2 # binary operation"
   ]
  },
  {
   "cell_type": "code",
   "execution_count": 39,
   "id": "5eea845a",
   "metadata": {},
   "outputs": [
    {
     "data": {
      "text/plain": [
       "array([[3, 7, 8, 4],\n",
       "       [7, 9, 9, 1],\n",
       "       [4, 7, 8, 5]])"
      ]
     },
     "execution_count": 39,
     "metadata": {},
     "output_type": "execute_result"
    }
   ],
   "source": [
    "arr1"
   ]
  },
  {
   "cell_type": "code",
   "execution_count": 40,
   "id": "31023373",
   "metadata": {},
   "outputs": [
    {
     "data": {
      "text/plain": [
       "array([[ -4,  -8,  -9,  -5],\n",
       "       [ -8, -10, -10,  -2],\n",
       "       [ -5,  -8,  -9,  -6]])"
      ]
     },
     "execution_count": 40,
     "metadata": {},
     "output_type": "execute_result"
    }
   ],
   "source": [
    "~arr1  # negate karva mate na operation "
   ]
  },
  {
   "cell_type": "code",
   "execution_count": 42,
   "id": "ba2401e4",
   "metadata": {},
   "outputs": [
    {
     "data": {
      "text/plain": [
       "array([[ 3,  7, 14,  5],\n",
       "       [ 7, 11, 15,  1],\n",
       "       [ 7,  7, 10,  7]])"
      ]
     },
     "execution_count": 42,
     "metadata": {},
     "output_type": "execute_result"
    }
   ],
   "source": [
    "arr1 | arr2"
   ]
  },
  {
   "cell_type": "code",
   "execution_count": 43,
   "id": "5cf51496",
   "metadata": {},
   "outputs": [
    {
     "data": {
      "text/plain": [
       "array([[False,  True,  True, False],\n",
       "       [ True,  True,  True, False],\n",
       "       [False,  True,  True, False]])"
      ]
     },
     "execution_count": 43,
     "metadata": {},
     "output_type": "execute_result"
    }
   ],
   "source": [
    "arr1>arr2"
   ]
  },
  {
   "cell_type": "code",
   "execution_count": 44,
   "id": "bbe8d110",
   "metadata": {},
   "outputs": [],
   "source": [
    "#Numpy -String  Function\n",
    "arr =np.array([\"sudh\",\"harsh\"])"
   ]
  },
  {
   "cell_type": "code",
   "execution_count": 45,
   "id": "a3c9214f",
   "metadata": {},
   "outputs": [
    {
     "data": {
      "text/plain": [
       "array(['sudh', 'harsh'], dtype='<U5')"
      ]
     },
     "execution_count": 45,
     "metadata": {},
     "output_type": "execute_result"
    }
   ],
   "source": [
    "arr"
   ]
  },
  {
   "cell_type": "code",
   "execution_count": 46,
   "id": "060a1199",
   "metadata": {},
   "outputs": [
    {
     "data": {
      "text/plain": [
       "array(['SUDH', 'HARSH'], dtype='<U5')"
      ]
     },
     "execution_count": 46,
     "metadata": {},
     "output_type": "execute_result"
    }
   ],
   "source": [
    "np.char.upper(arr)"
   ]
  },
  {
   "cell_type": "code",
   "execution_count": 48,
   "id": "8b9d8d0a",
   "metadata": {},
   "outputs": [
    {
     "data": {
      "text/plain": [
       "array(['Sudh', 'Harsh'], dtype='<U5')"
      ]
     },
     "execution_count": 48,
     "metadata": {},
     "output_type": "execute_result"
    }
   ],
   "source": [
    "np.char.title(arr) # jya banne na first letter ne capital kari dese "
   ]
  },
  {
   "cell_type": "code",
   "execution_count": 50,
   "id": "fc4633a4",
   "metadata": {},
   "outputs": [
    {
     "data": {
      "text/plain": [
       "array([[ 0.14112001,  0.6569866 ,  0.98935825, -0.7568025 ],\n",
       "       [ 0.6569866 ,  0.41211849,  0.41211849,  0.84147098],\n",
       "       [-0.7568025 ,  0.6569866 ,  0.98935825, -0.95892427]])"
      ]
     },
     "execution_count": 50,
     "metadata": {},
     "output_type": "execute_result"
    }
   ],
   "source": [
    "# Numpy - Mathematical Function \n",
    "np.sin(arr1)"
   ]
  },
  {
   "cell_type": "code",
   "execution_count": 51,
   "id": "d487b98b",
   "metadata": {},
   "outputs": [
    {
     "data": {
      "text/plain": [
       "array([[-0.9899925 ,  0.75390225, -0.14550003, -0.65364362],\n",
       "       [ 0.75390225, -0.91113026, -0.91113026,  0.54030231],\n",
       "       [-0.65364362,  0.75390225, -0.14550003,  0.28366219]])"
      ]
     },
     "execution_count": 51,
     "metadata": {},
     "output_type": "execute_result"
    }
   ],
   "source": [
    "np.cos(arr1)"
   ]
  },
  {
   "cell_type": "code",
   "execution_count": 52,
   "id": "0fa6e970",
   "metadata": {},
   "outputs": [
    {
     "data": {
      "text/plain": [
       "array([[-0.14254654,  0.87144798, -6.79971146,  1.15782128],\n",
       "       [ 0.87144798, -0.45231566, -0.45231566,  1.55740772],\n",
       "       [ 1.15782128,  0.87144798, -6.79971146, -3.38051501]])"
      ]
     },
     "execution_count": 52,
     "metadata": {},
     "output_type": "execute_result"
    }
   ],
   "source": [
    "np.tan(arr1)"
   ]
  },
  {
   "cell_type": "code",
   "execution_count": 53,
   "id": "13735b9a",
   "metadata": {},
   "outputs": [
    {
     "data": {
      "text/plain": [
       "array([[0.99505475, 0.99999834, 0.99999977, 0.9993293 ],\n",
       "       [0.99999834, 0.99999997, 0.99999997, 0.76159416],\n",
       "       [0.9993293 , 0.99999834, 0.99999977, 0.9999092 ]])"
      ]
     },
     "execution_count": 53,
     "metadata": {},
     "output_type": "execute_result"
    }
   ],
   "source": [
    "np.tanh(arr1)"
   ]
  },
  {
   "cell_type": "code",
   "execution_count": 55,
   "id": "d6097beb",
   "metadata": {},
   "outputs": [
    {
     "data": {
      "text/plain": [
       "array([[1.09861229, 1.94591015, 2.07944154, 1.38629436],\n",
       "       [1.94591015, 2.19722458, 2.19722458, 0.        ],\n",
       "       [1.38629436, 1.94591015, 2.07944154, 1.60943791]])"
      ]
     },
     "execution_count": 55,
     "metadata": {},
     "output_type": "execute_result"
    }
   ],
   "source": [
    "np.log(arr1)"
   ]
  },
  {
   "cell_type": "code",
   "execution_count": 56,
   "id": "f606747b",
   "metadata": {},
   "outputs": [
    {
     "data": {
      "text/plain": [
       "array([[2.00855369e+01, 1.09663316e+03, 2.98095799e+03, 5.45981500e+01],\n",
       "       [1.09663316e+03, 8.10308393e+03, 8.10308393e+03, 2.71828183e+00],\n",
       "       [5.45981500e+01, 1.09663316e+03, 2.98095799e+03, 1.48413159e+02]])"
      ]
     },
     "execution_count": 56,
     "metadata": {},
     "output_type": "execute_result"
    }
   ],
   "source": [
    "np.exp(arr1)"
   ]
  },
  {
   "cell_type": "code",
   "execution_count": 57,
   "id": "c96590ba",
   "metadata": {},
   "outputs": [
    {
     "data": {
      "text/plain": [
       "array([[1.73205081, 2.64575131, 2.82842712, 2.        ],\n",
       "       [2.64575131, 3.        , 3.        , 1.        ],\n",
       "       [2.        , 2.64575131, 2.82842712, 2.23606798]])"
      ]
     },
     "execution_count": 57,
     "metadata": {},
     "output_type": "execute_result"
    }
   ],
   "source": [
    "np.sqrt(arr1)"
   ]
  },
  {
   "cell_type": "code",
   "execution_count": 59,
   "id": "37d807ef",
   "metadata": {},
   "outputs": [
    {
     "data": {
      "text/plain": [
       "array([[ 9, 49, 64, 16],\n",
       "       [49, 81, 81,  1],\n",
       "       [16, 49, 64, 25]], dtype=int32)"
      ]
     },
     "execution_count": 59,
     "metadata": {},
     "output_type": "execute_result"
    }
   ],
   "source": [
    "np.power(arr1,2)"
   ]
  },
  {
   "cell_type": "code",
   "execution_count": 60,
   "id": "942b77ff",
   "metadata": {},
   "outputs": [
    {
     "data": {
      "text/plain": [
       "6.0"
      ]
     },
     "execution_count": 60,
     "metadata": {},
     "output_type": "execute_result"
    }
   ],
   "source": [
    "np.mean(arr1)"
   ]
  },
  {
   "cell_type": "code",
   "execution_count": 62,
   "id": "d7afb675",
   "metadata": {},
   "outputs": [
    {
     "data": {
      "text/plain": [
       "7.0"
      ]
     },
     "execution_count": 62,
     "metadata": {},
     "output_type": "execute_result"
    }
   ],
   "source": [
    "np.median(arr1)"
   ]
  },
  {
   "cell_type": "code",
   "execution_count": 63,
   "id": "a2703c58",
   "metadata": {},
   "outputs": [
    {
     "data": {
      "text/plain": [
       "2.449489742783178"
      ]
     },
     "execution_count": 63,
     "metadata": {},
     "output_type": "execute_result"
    }
   ],
   "source": [
    "np.std(arr1) # standard deviation"
   ]
  },
  {
   "cell_type": "code",
   "execution_count": 64,
   "id": "e04eea65",
   "metadata": {},
   "outputs": [
    {
     "data": {
      "text/plain": [
       "6.0"
      ]
     },
     "execution_count": 64,
     "metadata": {},
     "output_type": "execute_result"
    }
   ],
   "source": [
    "np.var(arr1) # jya e variance thay che "
   ]
  },
  {
   "cell_type": "code",
   "execution_count": 65,
   "id": "c54a0fa1",
   "metadata": {},
   "outputs": [
    {
     "data": {
      "text/plain": [
       "1"
      ]
     },
     "execution_count": 65,
     "metadata": {},
     "output_type": "execute_result"
    }
   ],
   "source": [
    "np.min(arr1)"
   ]
  },
  {
   "cell_type": "code",
   "execution_count": 67,
   "id": "f99cc2da",
   "metadata": {},
   "outputs": [
    {
     "data": {
      "text/plain": [
       "9"
      ]
     },
     "execution_count": 67,
     "metadata": {},
     "output_type": "execute_result"
    }
   ],
   "source": [
    "np.max(arr1)"
   ]
  },
  {
   "cell_type": "code",
   "execution_count": null,
   "id": "a9dbb8c9",
   "metadata": {},
   "outputs": [],
   "source": []
  }
 ],
 "metadata": {
  "kernelspec": {
   "display_name": "Python 3 (ipykernel)",
   "language": "python",
   "name": "python3"
  },
  "language_info": {
   "codemirror_mode": {
    "name": "ipython",
    "version": 3
   },
   "file_extension": ".py",
   "mimetype": "text/x-python",
   "name": "python",
   "nbconvert_exporter": "python",
   "pygments_lexer": "ipython3",
   "version": "3.11.5"
  }
 },
 "nbformat": 4,
 "nbformat_minor": 5
}
