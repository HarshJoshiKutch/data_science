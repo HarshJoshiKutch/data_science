{
 "cells": [
  {
   "cell_type": "code",
   "execution_count": 1,
   "id": "902f1162",
   "metadata": {},
   "outputs": [],
   "source": [
    "import numpy as np "
   ]
  },
  {
   "cell_type": "code",
   "execution_count": 2,
   "id": "319804d1",
   "metadata": {},
   "outputs": [
    {
     "data": {
      "text/plain": [
       "array([0, 1, 2, 3, 4, 5, 6, 7, 8, 9])"
      ]
     },
     "execution_count": 2,
     "metadata": {},
     "output_type": "execute_result"
    }
   ],
   "source": [
    "np.arange(10)"
   ]
  },
  {
   "cell_type": "markdown",
   "id": "1a64b00c",
   "metadata": {},
   "source": [
    "How to create a boolean array?\n"
   ]
  },
  {
   "cell_type": "code",
   "execution_count": 3,
   "id": "b5227164",
   "metadata": {},
   "outputs": [
    {
     "data": {
      "text/plain": [
       "array([[ True,  True,  True],\n",
       "       [ True,  True,  True],\n",
       "       [ True,  True,  True]])"
      ]
     },
     "execution_count": 3,
     "metadata": {},
     "output_type": "execute_result"
    }
   ],
   "source": [
    "np.full((3,3),True,dtype=bool) #full(matrixsize,value,dtype) #create an array with a specified shape and fill it with a given value "
   ]
  },
  {
   "cell_type": "code",
   "execution_count": 4,
   "id": "b176eb9f",
   "metadata": {},
   "outputs": [
    {
     "data": {
      "text/plain": [
       "array([[0, 0, 0, 0],\n",
       "       [0, 0, 0, 0],\n",
       "       [0, 0, 0, 0],\n",
       "       [0, 0, 0, 0]])"
      ]
     },
     "execution_count": 4,
     "metadata": {},
     "output_type": "execute_result"
    }
   ],
   "source": [
    "np.full((4,4),False,dtype=int)"
   ]
  },
  {
   "cell_type": "markdown",
   "id": "09ce70ab",
   "metadata": {},
   "source": [
    "np.full((9),True,dtype=bool).reshape(3,3) # uper vada question ne aa pan lakhi sakay"
   ]
  },
  {
   "cell_type": "code",
   "execution_count": 5,
   "id": "3ce01f7c",
   "metadata": {},
   "outputs": [],
   "source": [
    "x= np.array([1,2,3,4])"
   ]
  },
  {
   "cell_type": "code",
   "execution_count": 6,
   "id": "d452ac2d",
   "metadata": {},
   "outputs": [
    {
     "data": {
      "text/plain": [
       "array([1, 2, 3, 4])"
      ]
     },
     "execution_count": 6,
     "metadata": {},
     "output_type": "execute_result"
    }
   ],
   "source": [
    "x"
   ]
  },
  {
   "cell_type": "markdown",
   "id": "7a3b5eb2",
   "metadata": {},
   "source": [
    "How to reshape an array?\n"
   ]
  },
  {
   "cell_type": "code",
   "execution_count": 7,
   "id": "b9b1a7ee",
   "metadata": {},
   "outputs": [],
   "source": [
    "arr = np.arange(10)"
   ]
  },
  {
   "cell_type": "code",
   "execution_count": 8,
   "id": "0f5c468d",
   "metadata": {},
   "outputs": [
    {
     "data": {
      "text/plain": [
       "array([[0, 1, 2, 3, 4],\n",
       "       [5, 6, 7, 8, 9]])"
      ]
     },
     "execution_count": 8,
     "metadata": {},
     "output_type": "execute_result"
    }
   ],
   "source": [
    "arr.reshape(2,5) # arr.reshape(2,-1)"
   ]
  },
  {
   "cell_type": "markdown",
   "id": "2ad30eb6",
   "metadata": {},
   "source": [
    "How to get the common items between two python numpy arrays?"
   ]
  },
  {
   "cell_type": "code",
   "execution_count": 9,
   "id": "c5101134",
   "metadata": {},
   "outputs": [],
   "source": [
    "a = np.array([1,2,3,2,3,4,3,4,5,6])\n",
    "b = np.array([7,2,10,2,7,4,9,4,9,8])"
   ]
  },
  {
   "cell_type": "code",
   "execution_count": 10,
   "id": "4bb763b0",
   "metadata": {},
   "outputs": [
    {
     "data": {
      "text/plain": [
       "array([2, 4])"
      ]
     },
     "execution_count": 10,
     "metadata": {},
     "output_type": "execute_result"
    }
   ],
   "source": [
    "np.intersect1d(a,b)"
   ]
  },
  {
   "cell_type": "markdown",
   "id": "372907cc",
   "metadata": {},
   "source": [
    "How to remove from one array those items that exist in another?"
   ]
  },
  {
   "cell_type": "code",
   "execution_count": 11,
   "id": "968a2b29",
   "metadata": {},
   "outputs": [],
   "source": [
    "a = np.array([1,2,3,4,5])\n",
    "b = np.array([5,6,7,8,9])"
   ]
  },
  {
   "cell_type": "markdown",
   "id": "caa50fb2",
   "metadata": {},
   "source": [
    "How to extract all numbers between a given range from a numpy array?"
   ]
  },
  {
   "cell_type": "code",
   "execution_count": 12,
   "id": "150f39bf",
   "metadata": {},
   "outputs": [
    {
     "data": {
      "text/plain": [
       "array([ 6,  9, 10])"
      ]
     },
     "execution_count": 12,
     "metadata": {},
     "output_type": "execute_result"
    }
   ],
   "source": [
    "a = np.array([2,6,1,9,10,3,27])\n",
    "a[(a>5) & (a<=10)]"
   ]
  },
  {
   "cell_type": "markdown",
   "id": "f8ee5ebc",
   "metadata": {},
   "source": [
    "how to make a python function that handles scalars to work on numpy arrays?"
   ]
  },
  {
   "cell_type": "code",
   "execution_count": 13,
   "id": "3a8149a1",
   "metadata": {},
   "outputs": [
    {
     "data": {
      "text/plain": [
       "array([6, 7, 9, 8, 9, 7, 5])"
      ]
     },
     "execution_count": 13,
     "metadata": {},
     "output_type": "execute_result"
    }
   ],
   "source": [
    "def max_pair(x,y):\n",
    "    maximum = [max(a,b) for a,b in map(lambda a,b:(a,b),x,y)]\n",
    "    return np.array(maximum)\n",
    "a= np.array([5, 7, 9, 8, 6, 4, 5])\n",
    "b= np.array([6, 3, 4, 8, 9, 7, 1])\n",
    "\n",
    "max_pair(a,b)"
   ]
  },
  {
   "cell_type": "markdown",
   "id": "5a1bea41",
   "metadata": {},
   "source": [
    "How to swap two columns in a 2d numpy array?"
   ]
  },
  {
   "cell_type": "code",
   "execution_count": 14,
   "id": "936dc9b8",
   "metadata": {},
   "outputs": [
    {
     "name": "stdout",
     "output_type": "stream",
     "text": [
      "Original Array\n"
     ]
    },
    {
     "data": {
      "text/plain": [
       "array([[0, 1, 2],\n",
       "       [3, 4, 5],\n",
       "       [6, 7, 8]])"
      ]
     },
     "execution_count": 14,
     "metadata": {},
     "output_type": "execute_result"
    }
   ],
   "source": [
    "arr = np.arange(9).reshape(3,3)\n",
    "print(\"Original Array\")\n",
    "arr"
   ]
  },
  {
   "cell_type": "code",
   "execution_count": 15,
   "id": "a5b7aca0",
   "metadata": {},
   "outputs": [
    {
     "name": "stdout",
     "output_type": "stream",
     "text": [
      "\n",
      "Modified Array\n"
     ]
    },
    {
     "data": {
      "text/plain": [
       "array([[1, 0, 2],\n",
       "       [4, 3, 5],\n",
       "       [7, 6, 8]])"
      ]
     },
     "execution_count": 15,
     "metadata": {},
     "output_type": "execute_result"
    }
   ],
   "source": [
    "print(\"\\nModified Array\")\n",
    "arr[:,[1,0,2]]"
   ]
  },
  {
   "cell_type": "markdown",
   "id": "89204ecd",
   "metadata": {},
   "source": [
    "How to swap two rows in a 2d numpy array?"
   ]
  },
  {
   "cell_type": "code",
   "execution_count": 16,
   "id": "9ba6365d",
   "metadata": {},
   "outputs": [
    {
     "data": {
      "text/plain": [
       "array([[0, 1, 2],\n",
       "       [3, 4, 5],\n",
       "       [6, 7, 8]])"
      ]
     },
     "execution_count": 16,
     "metadata": {},
     "output_type": "execute_result"
    }
   ],
   "source": [
    "a1 = np.arange(9).reshape(3,3)\n",
    "a1"
   ]
  },
  {
   "cell_type": "code",
   "execution_count": 17,
   "id": "35b873d3",
   "metadata": {},
   "outputs": [
    {
     "name": "stdout",
     "output_type": "stream",
     "text": [
      "\n",
      "Modified array\n"
     ]
    },
    {
     "data": {
      "text/plain": [
       "array([[3, 4, 5],\n",
       "       [0, 1, 2],\n",
       "       [6, 7, 8]])"
      ]
     },
     "execution_count": 17,
     "metadata": {},
     "output_type": "execute_result"
    }
   ],
   "source": [
    "print(\"\\nModified array\")\n",
    "arr[[1,0,2],:]"
   ]
  },
  {
   "cell_type": "markdown",
   "id": "bfb8b722",
   "metadata": {},
   "source": [
    "How to create a 2D array containing random floats between 5 and 10?"
   ]
  },
  {
   "cell_type": "code",
   "execution_count": 20,
   "id": "b58e218d",
   "metadata": {},
   "outputs": [],
   "source": [
    "rand_arr = np.random.uniform(5,10,(5,3))\n"
   ]
  },
  {
   "cell_type": "code",
   "execution_count": 22,
   "id": "f9c6ff04",
   "metadata": {},
   "outputs": [
    {
     "data": {
      "text/plain": [
       "array([[9.39489017, 7.78018158, 6.63134973],\n",
       "       [5.71405452, 5.43025466, 9.38157972],\n",
       "       [6.70834825, 8.9936265 , 8.42971371],\n",
       "       [9.61842526, 5.38481687, 7.48994917],\n",
       "       [5.31909309, 5.11422627, 5.05196015]])"
      ]
     },
     "execution_count": 22,
     "metadata": {},
     "output_type": "execute_result"
    }
   ],
   "source": [
    "rand_arr"
   ]
  },
  {
   "cell_type": "markdown",
   "id": "0e9e5706",
   "metadata": {},
   "source": [
    "How to print only 3 decimal places in python numpy array?"
   ]
  },
  {
   "cell_type": "code",
   "execution_count": 26,
   "id": "fbf7a337",
   "metadata": {},
   "outputs": [],
   "source": [
    "random_arr = np.random.rand(5,3)\n",
    "np.set_printoptions(precision=3)"
   ]
  },
  {
   "cell_type": "code",
   "execution_count": 27,
   "id": "47827e31",
   "metadata": {},
   "outputs": [
    {
     "data": {
      "text/plain": [
       "array([[0.683, 0.018, 0.963],\n",
       "       [0.906, 0.279, 0.917],\n",
       "       [0.523, 0.96 , 0.103],\n",
       "       [0.984, 0.85 , 0.055],\n",
       "       [0.195, 0.018, 0.98 ]])"
      ]
     },
     "execution_count": 27,
     "metadata": {},
     "output_type": "execute_result"
    }
   ],
   "source": [
    "random_arr"
   ]
  },
  {
   "cell_type": "markdown",
   "id": "45ad35c5",
   "metadata": {},
   "source": [
    "How to limit the number of items printed in output of numpy array?"
   ]
  },
  {
   "cell_type": "code",
   "execution_count": 34,
   "id": "20de09ce",
   "metadata": {},
   "outputs": [],
   "source": [
    "a = np.arange(15)\n",
    "np.set_printoptions(threshold=6)"
   ]
  },
  {
   "cell_type": "code",
   "execution_count": 35,
   "id": "6a4c2bd1",
   "metadata": {},
   "outputs": [
    {
     "data": {
      "text/plain": [
       "array([ 0,  1,  2, ..., 12, 13, 14])"
      ]
     },
     "execution_count": 35,
     "metadata": {},
     "output_type": "execute_result"
    }
   ],
   "source": [
    "a"
   ]
  },
  {
   "cell_type": "code",
   "execution_count": null,
   "id": "f98ddf36",
   "metadata": {},
   "outputs": [],
   "source": []
  }
 ],
 "metadata": {
  "kernelspec": {
   "display_name": "Python 3 (ipykernel)",
   "language": "python",
   "name": "python3"
  },
  "language_info": {
   "codemirror_mode": {
    "name": "ipython",
    "version": 3
   },
   "file_extension": ".py",
   "mimetype": "text/x-python",
   "name": "python",
   "nbconvert_exporter": "python",
   "pygments_lexer": "ipython3",
   "version": "3.11.5"
  }
 },
 "nbformat": 4,
 "nbformat_minor": 5
}
