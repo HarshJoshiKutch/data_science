{
 "cells": [
  {
   "cell_type": "code",
   "execution_count": 1,
   "id": "81dda8da",
   "metadata": {},
   "outputs": [],
   "source": [
    "import numpy as np"
   ]
  },
  {
   "cell_type": "code",
   "execution_count": 3,
   "id": "d279a90e",
   "metadata": {},
   "outputs": [],
   "source": [
    "# Sort , Search & Counting Function.\n",
    "arr = np.array([4,5,6,7,8,72,34,22,87])"
   ]
  },
  {
   "cell_type": "code",
   "execution_count": 4,
   "id": "c9ef5648",
   "metadata": {},
   "outputs": [
    {
     "data": {
      "text/plain": [
       "array([ 4,  5,  6,  7,  8, 72, 34, 22, 87])"
      ]
     },
     "execution_count": 4,
     "metadata": {},
     "output_type": "execute_result"
    }
   ],
   "source": [
    "arr"
   ]
  },
  {
   "cell_type": "code",
   "execution_count": 5,
   "id": "4550f9d0",
   "metadata": {},
   "outputs": [
    {
     "data": {
      "text/plain": [
       "array([ 4,  5,  6,  7,  8, 22, 34, 72, 87])"
      ]
     },
     "execution_count": 5,
     "metadata": {},
     "output_type": "execute_result"
    }
   ],
   "source": [
    "np.sort(arr) # jya data ne acending order ma sort kari de che "
   ]
  },
  {
   "cell_type": "code",
   "execution_count": 6,
   "id": "d9aad2b5",
   "metadata": {},
   "outputs": [
    {
     "data": {
      "text/plain": [
       "8"
      ]
     },
     "execution_count": 6,
     "metadata": {},
     "output_type": "execute_result"
    }
   ],
   "source": [
    "np.searchsorted(arr,34) # jya aa data kaya index par jse e dekhadse "
   ]
  },
  {
   "cell_type": "code",
   "execution_count": 11,
   "id": "0125731d",
   "metadata": {},
   "outputs": [],
   "source": [
    "arr1 = np.array([1,3,4,5,86,0,0,0,0])"
   ]
  },
  {
   "cell_type": "code",
   "execution_count": 15,
   "id": "6e5f2d83",
   "metadata": {},
   "outputs": [
    {
     "data": {
      "text/plain": [
       "5"
      ]
     },
     "execution_count": 15,
     "metadata": {},
     "output_type": "execute_result"
    }
   ],
   "source": [
    "np.count_nonzero(arr1) # jetla non zero element hoi e count karide "
   ]
  },
  {
   "cell_type": "code",
   "execution_count": 16,
   "id": "e4acb9ee",
   "metadata": {},
   "outputs": [
    {
     "data": {
      "text/plain": [
       "array([ 4,  5,  6,  7,  8, 72, 34, 22, 87])"
      ]
     },
     "execution_count": 16,
     "metadata": {},
     "output_type": "execute_result"
    }
   ],
   "source": [
    "arr"
   ]
  },
  {
   "cell_type": "code",
   "execution_count": 18,
   "id": "a8473d26",
   "metadata": {},
   "outputs": [
    {
     "data": {
      "text/plain": [
       "(array([3, 4, 5, 6, 7, 8], dtype=int64),)"
      ]
     },
     "execution_count": 18,
     "metadata": {},
     "output_type": "execute_result"
    }
   ],
   "source": [
    "np.where(arr > 6) # jya te data ni index aapse "
   ]
  },
  {
   "cell_type": "code",
   "execution_count": 19,
   "id": "98b48102",
   "metadata": {},
   "outputs": [
    {
     "data": {
      "text/plain": [
       "array([ 7,  8, 72, 34, 22, 87])"
      ]
     },
     "execution_count": 19,
     "metadata": {},
     "output_type": "execute_result"
    }
   ],
   "source": [
    "np.extract(arr>6,arr) # extract e jya > 6 che ene array mathi kadhi nakho "
   ]
  },
  {
   "cell_type": "code",
   "execution_count": 21,
   "id": "493dc1d0",
   "metadata": {},
   "outputs": [],
   "source": [
    "# Numpy - Byte Swapping "
   ]
  },
  {
   "cell_type": "code",
   "execution_count": 22,
   "id": "2f943eac",
   "metadata": {},
   "outputs": [
    {
     "data": {
      "text/plain": [
       "array([ 4,  5,  6,  7,  8, 72, 34, 22, 87])"
      ]
     },
     "execution_count": 22,
     "metadata": {},
     "output_type": "execute_result"
    }
   ],
   "source": [
    "arr"
   ]
  },
  {
   "cell_type": "code",
   "execution_count": 24,
   "id": "544c7fdd",
   "metadata": {},
   "outputs": [
    {
     "data": {
      "text/plain": [
       "array([  67108864,   83886080,  100663296,  117440512,  134217728,\n",
       "       1207959552,  570425344,  369098752, 1459617792])"
      ]
     },
     "execution_count": 24,
     "metadata": {},
     "output_type": "execute_result"
    }
   ],
   "source": [
    "arr.byteswap()  # jya kai pan data nakhyo hase ene byte ma represent kari ne dekhadi dese "
   ]
  },
  {
   "cell_type": "code",
   "execution_count": 25,
   "id": "448e1405",
   "metadata": {},
   "outputs": [],
   "source": [
    "# Numpy - Copies & Views"
   ]
  },
  {
   "cell_type": "code",
   "execution_count": 26,
   "id": "c9049fa2",
   "metadata": {},
   "outputs": [
    {
     "data": {
      "text/plain": [
       "array([ 4,  5,  6,  7,  8, 72, 34, 22, 87])"
      ]
     },
     "execution_count": 26,
     "metadata": {},
     "output_type": "execute_result"
    }
   ],
   "source": [
    "arr"
   ]
  },
  {
   "cell_type": "code",
   "execution_count": 28,
   "id": "afa59e5a",
   "metadata": {},
   "outputs": [],
   "source": [
    "a = np.copy(arr) # aane deep copy kahe che "
   ]
  },
  {
   "cell_type": "code",
   "execution_count": 38,
   "id": "763682d0",
   "metadata": {},
   "outputs": [],
   "source": [
    "b = arr.view() # jya view() w shallow copy vadu kam kare che b = arr che "
   ]
  },
  {
   "cell_type": "code",
   "execution_count": 39,
   "id": "b30fe991",
   "metadata": {},
   "outputs": [
    {
     "data": {
      "text/plain": [
       "array([67,  5,  6,  7,  8, 72, 34, 22, 87])"
      ]
     },
     "execution_count": 39,
     "metadata": {},
     "output_type": "execute_result"
    }
   ],
   "source": [
    "b"
   ]
  },
  {
   "cell_type": "code",
   "execution_count": 40,
   "id": "e9172511",
   "metadata": {},
   "outputs": [
    {
     "data": {
      "text/plain": [
       "array([67,  5,  6,  7,  8, 72, 34, 22, 87])"
      ]
     },
     "execution_count": 40,
     "metadata": {},
     "output_type": "execute_result"
    }
   ],
   "source": [
    "arr"
   ]
  },
  {
   "cell_type": "code",
   "execution_count": 41,
   "id": "c0f67285",
   "metadata": {},
   "outputs": [],
   "source": [
    "b[0]= 67"
   ]
  },
  {
   "cell_type": "code",
   "execution_count": 42,
   "id": "88a1470a",
   "metadata": {},
   "outputs": [
    {
     "data": {
      "text/plain": [
       "array([67,  5,  6,  7,  8, 72, 34, 22, 87])"
      ]
     },
     "execution_count": 42,
     "metadata": {},
     "output_type": "execute_result"
    }
   ],
   "source": [
    "b"
   ]
  },
  {
   "cell_type": "code",
   "execution_count": 43,
   "id": "1625552d",
   "metadata": {},
   "outputs": [
    {
     "data": {
      "text/plain": [
       "array([ 4,  5,  6,  7,  8, 72, 34, 22, 87])"
      ]
     },
     "execution_count": 43,
     "metadata": {},
     "output_type": "execute_result"
    }
   ],
   "source": [
    "a"
   ]
  },
  {
   "cell_type": "code",
   "execution_count": 44,
   "id": "b5db0f42",
   "metadata": {},
   "outputs": [],
   "source": [
    "# Numpy - Matrix Library"
   ]
  },
  {
   "cell_type": "code",
   "execution_count": 47,
   "id": "dbf4d856",
   "metadata": {},
   "outputs": [],
   "source": [
    "import numpy.matlib as nm"
   ]
  },
  {
   "cell_type": "code",
   "execution_count": 49,
   "id": "f2db8879",
   "metadata": {},
   "outputs": [
    {
     "data": {
      "text/plain": [
       "matrix([[0., 0., 0., 0., 0.]])"
      ]
     },
     "execution_count": 49,
     "metadata": {},
     "output_type": "execute_result"
    }
   ],
   "source": [
    "nm.zeros(5)"
   ]
  },
  {
   "cell_type": "markdown",
   "id": "fdee714c",
   "metadata": {},
   "source": [
    "matrix is already subclass of array"
   ]
  },
  {
   "cell_type": "code",
   "execution_count": 51,
   "id": "459539ba",
   "metadata": {},
   "outputs": [
    {
     "data": {
      "text/plain": [
       "matrix([[1., 1., 1., 1.],\n",
       "        [1., 1., 1., 1.],\n",
       "        [1., 1., 1., 1.]])"
      ]
     },
     "execution_count": 51,
     "metadata": {},
     "output_type": "execute_result"
    }
   ],
   "source": [
    "nm.ones((3,4))"
   ]
  },
  {
   "cell_type": "code",
   "execution_count": 52,
   "id": "3e2fc0c4",
   "metadata": {},
   "outputs": [
    {
     "data": {
      "text/plain": [
       "matrix([[1., 0., 0., 0., 0.],\n",
       "        [0., 1., 0., 0., 0.],\n",
       "        [0., 0., 1., 0., 0.],\n",
       "        [0., 0., 0., 1., 0.],\n",
       "        [0., 0., 0., 0., 1.]])"
      ]
     },
     "execution_count": 52,
     "metadata": {},
     "output_type": "execute_result"
    }
   ],
   "source": [
    "nm.eye(5)"
   ]
  },
  {
   "cell_type": "code",
   "execution_count": 53,
   "id": "56622811",
   "metadata": {},
   "outputs": [],
   "source": [
    "# Numpy - Linear Algebra"
   ]
  },
  {
   "cell_type": "code",
   "execution_count": 54,
   "id": "f1e1b8f1",
   "metadata": {},
   "outputs": [],
   "source": [
    "arr1 = np.random.randint([[2,3],[4,5]])"
   ]
  },
  {
   "cell_type": "code",
   "execution_count": 55,
   "id": "9c53c930",
   "metadata": {},
   "outputs": [],
   "source": [
    "arr2 = np.random.randint([[5,3],[2,5]])"
   ]
  },
  {
   "cell_type": "code",
   "execution_count": 57,
   "id": "4834a21d",
   "metadata": {},
   "outputs": [
    {
     "data": {
      "text/plain": [
       "array([[1, 1],\n",
       "       [1, 1]])"
      ]
     },
     "execution_count": 57,
     "metadata": {},
     "output_type": "execute_result"
    }
   ],
   "source": [
    "np.dot(arr1,arr2) # aa dot product kare che"
   ]
  },
  {
   "cell_type": "code",
   "execution_count": 59,
   "id": "dc2e8fd5",
   "metadata": {},
   "outputs": [
    {
     "data": {
      "text/plain": [
       "array([[1, 1],\n",
       "       [1, 1]])"
      ]
     },
     "execution_count": 59,
     "metadata": {},
     "output_type": "execute_result"
    }
   ],
   "source": [
    "arr1@arr2 # matrix multiplication"
   ]
  },
  {
   "cell_type": "code",
   "execution_count": null,
   "id": "a538dfe9",
   "metadata": {},
   "outputs": [],
   "source": []
  }
 ],
 "metadata": {
  "kernelspec": {
   "display_name": "Python 3 (ipykernel)",
   "language": "python",
   "name": "python3"
  },
  "language_info": {
   "codemirror_mode": {
    "name": "ipython",
    "version": 3
   },
   "file_extension": ".py",
   "mimetype": "text/x-python",
   "name": "python",
   "nbconvert_exporter": "python",
   "pygments_lexer": "ipython3",
   "version": "3.11.5"
  }
 },
 "nbformat": 4,
 "nbformat_minor": 5
}
