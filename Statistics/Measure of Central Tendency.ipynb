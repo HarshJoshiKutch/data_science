{
 "cells": [
  {
   "cell_type": "markdown",
   "id": "2842d4f7",
   "metadata": {},
   "source": [
    "## Measure of central tendency \n",
    "   "
   ]
  },
  {
   "cell_type": "code",
   "execution_count": 2,
   "id": "cd1c81f5",
   "metadata": {},
   "outputs": [],
   "source": [
    "## Mean(Average)\n",
    "age = [12,21,23,45,65,43,56,45,54,34,32,67,]\n"
   ]
  },
  {
   "cell_type": "code",
   "execution_count": 4,
   "id": "e1a2570d",
   "metadata": {},
   "outputs": [
    {
     "data": {
      "text/plain": [
       "41.416666666666664"
      ]
     },
     "execution_count": 4,
     "metadata": {},
     "output_type": "execute_result"
    }
   ],
   "source": [
    "import numpy as np\n",
    "np.mean(age)"
   ]
  },
  {
   "cell_type": "code",
   "execution_count": 5,
   "id": "24ca1f7b",
   "metadata": {},
   "outputs": [],
   "source": [
    "weight = [54,52,45,65,67,43,34,75]"
   ]
  },
  {
   "cell_type": "code",
   "execution_count": 6,
   "id": "a69270b2",
   "metadata": {},
   "outputs": [
    {
     "data": {
      "text/plain": [
       "54.375"
      ]
     },
     "execution_count": 6,
     "metadata": {},
     "output_type": "execute_result"
    }
   ],
   "source": [
    "np.mean(weight)"
   ]
  },
  {
   "cell_type": "code",
   "execution_count": 11,
   "id": "25d76f87",
   "metadata": {},
   "outputs": [],
   "source": [
    "# Median\n",
    "weight = [54,52,45,65,67,43,34,75]"
   ]
  },
  {
   "cell_type": "code",
   "execution_count": 12,
   "id": "c29827c3",
   "metadata": {},
   "outputs": [
    {
     "data": {
      "text/plain": [
       "53.0"
      ]
     },
     "execution_count": 12,
     "metadata": {},
     "output_type": "execute_result"
    }
   ],
   "source": [
    "np.median(weight)"
   ]
  },
  {
   "cell_type": "code",
   "execution_count": 13,
   "id": "e24161ad",
   "metadata": {},
   "outputs": [],
   "source": [
    "from scipy import stats"
   ]
  },
  {
   "cell_type": "code",
   "execution_count": 14,
   "id": "2a351dda",
   "metadata": {},
   "outputs": [
    {
     "data": {
      "text/plain": [
       "ModeResult(mode=45, count=2)"
      ]
     },
     "execution_count": 14,
     "metadata": {},
     "output_type": "execute_result"
    }
   ],
   "source": [
    "stats.mode(age)"
   ]
  },
  {
   "cell_type": "code",
   "execution_count": null,
   "id": "a6d4f409",
   "metadata": {},
   "outputs": [],
   "source": []
  }
 ],
 "metadata": {
  "kernelspec": {
   "display_name": "Python 3 (ipykernel)",
   "language": "python",
   "name": "python3"
  },
  "language_info": {
   "codemirror_mode": {
    "name": "ipython",
    "version": 3
   },
   "file_extension": ".py",
   "mimetype": "text/x-python",
   "name": "python",
   "nbconvert_exporter": "python",
   "pygments_lexer": "ipython3",
   "version": "3.11.5"
  }
 },
 "nbformat": 4,
 "nbformat_minor": 5
}
